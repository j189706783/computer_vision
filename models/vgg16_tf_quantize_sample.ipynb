{
 "cells": [
  {
   "cell_type": "code",
   "execution_count": 1,
   "metadata": {
    "execution": {
     "iopub.execute_input": "2025-03-02T15:19:21.984656Z",
     "iopub.status.busy": "2025-03-02T15:19:21.984384Z",
     "iopub.status.idle": "2025-03-02T15:19:24.235683Z",
     "shell.execute_reply": "2025-03-02T15:19:24.234762Z",
     "shell.execute_reply.started": "2025-03-02T15:19:21.984637Z"
    },
    "trusted": true
   },
   "outputs": [],
   "source": [
    "import cv2\n",
    "import pandas as pd\n",
    "import numpy as np\n",
    "import random\n",
    "from sklearn.model_selection import train_test_split\n",
    "from sklearn.metrics import accuracy_score,recall_score,precision_score,roc_auc_score"
   ]
  },
  {
   "cell_type": "code",
   "execution_count": 2,
   "metadata": {
    "execution": {
     "iopub.execute_input": "2025-03-02T15:19:24.237115Z",
     "iopub.status.busy": "2025-03-02T15:19:24.236742Z",
     "iopub.status.idle": "2025-03-02T15:19:24.612192Z",
     "shell.execute_reply": "2025-03-02T15:19:24.611327Z",
     "shell.execute_reply.started": "2025-03-02T15:19:24.237085Z"
    },
    "trusted": true
   },
   "outputs": [],
   "source": [
    "import matplotlib.image as img\n",
    "import matplotlib.pyplot as plt\n",
    "import seaborn as sns\n",
    "sns.set_theme()"
   ]
  },
  {
   "cell_type": "code",
   "execution_count": 3,
   "metadata": {
    "execution": {
     "iopub.execute_input": "2025-03-02T15:19:24.614488Z",
     "iopub.status.busy": "2025-03-02T15:19:24.614072Z",
     "iopub.status.idle": "2025-03-02T15:19:24.617617Z",
     "shell.execute_reply": "2025-03-02T15:19:24.616912Z",
     "shell.execute_reply.started": "2025-03-02T15:19:24.614465Z"
    },
    "trusted": true
   },
   "outputs": [],
   "source": [
    "import os\n",
    "# print(os.getcwd())"
   ]
  },
  {
   "cell_type": "code",
   "execution_count": 4,
   "metadata": {
    "execution": {
     "iopub.execute_input": "2025-03-02T15:19:24.619141Z",
     "iopub.status.busy": "2025-03-02T15:19:24.618929Z",
     "iopub.status.idle": "2025-03-02T15:19:35.558608Z",
     "shell.execute_reply": "2025-03-02T15:19:35.557851Z",
     "shell.execute_reply.started": "2025-03-02T15:19:24.619125Z"
    },
    "trusted": true
   },
   "outputs": [
    {
     "name": "stderr",
     "output_type": "stream",
     "text": [
      "/Users/alros/computer_vision/computer_vision/lib/python3.9/site-packages/urllib3/__init__.py:35: NotOpenSSLWarning: urllib3 v2 only supports OpenSSL 1.1.1+, currently the 'ssl' module is compiled with 'LibreSSL 2.8.3'. See: https://github.com/urllib3/urllib3/issues/3020\n",
      "  warnings.warn(\n"
     ]
    },
    {
     "name": "stdout",
     "output_type": "stream",
     "text": [
      "2.19.0\n"
     ]
    }
   ],
   "source": [
    "import tensorflow as tf\n",
    "print(tf.__version__)"
   ]
  },
  {
   "cell_type": "code",
   "execution_count": 5,
   "metadata": {
    "trusted": true
   },
   "outputs": [
    {
     "name": "stdout",
     "output_type": "stream",
     "text": [
      "Available GPUs: [PhysicalDevice(name='/physical_device:GPU:0', device_type='GPU')]\n"
     ]
    }
   ],
   "source": [
    "gpus = tf.config.experimental.list_physical_devices('GPU')\n",
    "print(\"Available GPUs:\", gpus)\n",
    "\n",
    "if gpus:\n",
    "    try:\n",
    "        for gpu in gpus:\n",
    "            tf.config.experimental.set_memory_growth(gpu, True)  # 防止佔滿 GPU 記憶體\n",
    "    except RuntimeError as e:\n",
    "        print(e)\n"
   ]
  },
  {
   "cell_type": "code",
   "execution_count": 6,
   "metadata": {
    "execution": {
     "iopub.execute_input": "2025-03-02T15:19:35.559889Z",
     "iopub.status.busy": "2025-03-02T15:19:35.559358Z",
     "iopub.status.idle": "2025-03-02T15:19:35.563740Z",
     "shell.execute_reply": "2025-03-02T15:19:35.563053Z",
     "shell.execute_reply.started": "2025-03-02T15:19:35.559857Z"
    },
    "trusted": true
   },
   "outputs": [],
   "source": [
    "seed=42\n",
    "np.random.seed(seed)\n",
    "random.seed(seed)\n",
    "tf.random.set_seed(seed)"
   ]
  },
  {
   "cell_type": "code",
   "execution_count": 7,
   "metadata": {
    "execution": {
     "iopub.execute_input": "2025-03-02T15:19:35.565084Z",
     "iopub.status.busy": "2025-03-02T15:19:35.564787Z",
     "iopub.status.idle": "2025-03-02T15:19:35.602465Z",
     "shell.execute_reply": "2025-03-02T15:19:35.601546Z",
     "shell.execute_reply.started": "2025-03-02T15:19:35.565057Z"
    },
    "trusted": true
   },
   "outputs": [],
   "source": [
    "def showData(path,title=''):\n",
    "    image = img.imread(path)\n",
    "    #避免多通道或單通道無法正常顯示\n",
    "    if len(image.shape)==2:\n",
    "        image = image.reshape((image.shape[0],image.shape[1],1))\n",
    "        image = cv2.cvtColor(image, cv2.COLOR_GRAY2RGB)\n",
    "    else:\n",
    "        if image.shape[-1]==4:\n",
    "            image = cv2.cvtColor(image, cv2.COLOR_RGBA2RGB)\n",
    "            \n",
    "    if title !='':\n",
    "        plt.title(title)\n",
    "    plt.show()"
   ]
  },
  {
   "cell_type": "markdown",
   "metadata": {},
   "source": [
    "### 載入資料集"
   ]
  },
  {
   "cell_type": "code",
   "execution_count": 8,
   "metadata": {
    "execution": {
     "iopub.execute_input": "2025-03-02T15:19:35.603580Z",
     "iopub.status.busy": "2025-03-02T15:19:35.603328Z",
     "iopub.status.idle": "2025-03-02T15:19:35.694677Z",
     "shell.execute_reply": "2025-03-02T15:19:35.693896Z",
     "shell.execute_reply.started": "2025-03-02T15:19:35.603549Z"
    },
    "trusted": true
   },
   "outputs": [],
   "source": [
    "lst_labels = ['covid','normal','pneumonia']\n",
    "dic = {'image_path':[],'labels':[]}\n",
    "for lbl in lst_labels:\n",
    "    folder = f\"../dataset/COVID19_Pneumonia_Normal_Chest_Xray_PA_Dataset/{lbl}/\"\n",
    "    for name in os.listdir(folder):\n",
    "        dic['image_path'].append(folder+name)\n",
    "        dic['labels'].append(lst_labels.index(lbl))\n",
    "\n",
    "df_dataest = pd.DataFrame(dic)\n",
    "df_dataest['labels'] = df_dataest['labels'].astype(int)"
   ]
  },
  {
   "cell_type": "markdown",
   "metadata": {},
   "source": [
    "### 觀察類別平衡情況"
   ]
  },
  {
   "cell_type": "code",
   "execution_count": 9,
   "metadata": {
    "execution": {
     "iopub.execute_input": "2025-03-02T15:19:35.695761Z",
     "iopub.status.busy": "2025-03-02T15:19:35.695492Z",
     "iopub.status.idle": "2025-03-02T15:19:35.710143Z",
     "shell.execute_reply": "2025-03-02T15:19:35.709394Z",
     "shell.execute_reply.started": "2025-03-02T15:19:35.695734Z"
    },
    "trusted": true
   },
   "outputs": [
    {
     "name": "stdout",
     "output_type": "stream",
     "text": [
      "6939\n"
     ]
    },
    {
     "data": {
      "text/plain": [
       "labels\n",
       "0    2313\n",
       "1    2313\n",
       "2    2313\n",
       "Name: count, dtype: int64"
      ]
     },
     "execution_count": 9,
     "metadata": {},
     "output_type": "execute_result"
    }
   ],
   "source": [
    "print(len(df_dataest))\n",
    "df_dataest['labels'].value_counts()"
   ]
  },
  {
   "cell_type": "code",
   "execution_count": 10,
   "metadata": {
    "execution": {
     "iopub.execute_input": "2025-03-02T15:19:35.712653Z",
     "iopub.status.busy": "2025-03-02T15:19:35.712463Z",
     "iopub.status.idle": "2025-03-02T15:19:35.722655Z",
     "shell.execute_reply": "2025-03-02T15:19:35.722049Z",
     "shell.execute_reply.started": "2025-03-02T15:19:35.712637Z"
    },
    "trusted": true
   },
   "outputs": [],
   "source": [
    "def load_data(img_paths,img_size):\n",
    "    '''\n",
    "    1.將圖片轉型縮放成只指定大小\n",
    "    2.解決將多通道或單通道的圖片統一成RGB三通道\n",
    "    3.遇到已經過好標準化(0-1)的圖片的話先轉回來(0-255)方便後續SHAP觀察 \n",
    "    '''\n",
    "    lst = []\n",
    "    for p in img_paths:\n",
    "        image = img.imread(p)\n",
    "        image = cv2.resize(image, img_size)\n",
    "        # 處理不同通道的輸入資料\n",
    "        #\n",
    "        if len(image.shape)==2:\n",
    "            image = image.reshape((img_size[0],img_size[1],1))\n",
    "            image = cv2.cvtColor(image, cv2.COLOR_GRAY2RGB)\n",
    "        else:\n",
    "            if image.shape[-1]==4:\n",
    "                image = cv2.cvtColor(image, cv2.COLOR_RGBA2RGB)\n",
    "\n",
    "        #方便後續用SHAP觀察使用，發現有標準化資料先轉回來\n",
    "        if image[0][0][0]<=1:\n",
    "            image = (image*255.0).astype(np.uint8)\n",
    "        lst.append(image)\n",
    "        \n",
    "    ary = np.array(lst)\n",
    "\n",
    "    print(ary.shape)\n",
    "    return ary\n",
    "\n",
    "def to_y_data(data,num_classes):\n",
    "    count = len(data)\n",
    "    ary = np.zeros((len(data), num_classes),dtype=int)\n",
    "\n",
    "    for i in range(count):\n",
    "        ary[i][data[i]]=1\n",
    "    return ary"
   ]
  },
  {
   "cell_type": "code",
   "execution_count": 11,
   "metadata": {
    "execution": {
     "iopub.execute_input": "2025-03-02T15:19:35.724240Z",
     "iopub.status.busy": "2025-03-02T15:19:35.724028Z",
     "iopub.status.idle": "2025-03-02T15:19:35.733555Z",
     "shell.execute_reply": "2025-03-02T15:19:35.732902Z",
     "shell.execute_reply.started": "2025-03-02T15:19:35.724223Z"
    },
    "trusted": true
   },
   "outputs": [],
   "source": [
    "#設定訓練資料的尺寸和model輸入的大小 \n",
    "image_w_h = 256"
   ]
  },
  {
   "cell_type": "code",
   "execution_count": 12,
   "metadata": {
    "execution": {
     "iopub.execute_input": "2025-03-02T15:19:35.734530Z",
     "iopub.status.busy": "2025-03-02T15:19:35.734302Z",
     "iopub.status.idle": "2025-03-02T15:19:35.752701Z",
     "shell.execute_reply": "2025-03-02T15:19:35.751803Z",
     "shell.execute_reply.started": "2025-03-02T15:19:35.734512Z"
    },
    "trusted": true
   },
   "outputs": [],
   "source": [
    "data = df_dataest.sample(1000,random_state=42)"
   ]
  },
  {
   "cell_type": "code",
   "execution_count": 13,
   "metadata": {
    "execution": {
     "iopub.execute_input": "2025-03-02T15:19:35.754115Z",
     "iopub.status.busy": "2025-03-02T15:19:35.753806Z",
     "iopub.status.idle": "2025-03-02T15:19:35.759790Z",
     "shell.execute_reply": "2025-03-02T15:19:35.758918Z",
     "shell.execute_reply.started": "2025-03-02T15:19:35.754088Z"
    },
    "trusted": true
   },
   "outputs": [
    {
     "data": {
      "text/plain": [
       "labels\n",
       "0    346\n",
       "1    340\n",
       "2    314\n",
       "Name: count, dtype: int64"
      ]
     },
     "execution_count": 13,
     "metadata": {},
     "output_type": "execute_result"
    }
   ],
   "source": [
    "data['labels'].value_counts()"
   ]
  },
  {
   "cell_type": "code",
   "execution_count": 14,
   "metadata": {
    "execution": {
     "iopub.execute_input": "2025-03-02T15:19:35.761064Z",
     "iopub.status.busy": "2025-03-02T15:19:35.760763Z",
     "iopub.status.idle": "2025-03-02T15:19:55.604930Z",
     "shell.execute_reply": "2025-03-02T15:19:55.604248Z",
     "shell.execute_reply.started": "2025-03-02T15:19:35.761028Z"
    },
    "trusted": true
   },
   "outputs": [
    {
     "name": "stdout",
     "output_type": "stream",
     "text": [
      "(800, 256, 256, 3)\n",
      "(200, 256, 256, 3)\n"
     ]
    }
   ],
   "source": [
    "X_train, X_val, y_train, y_val = train_test_split(data['image_path'], data['labels'], test_size=0.2, random_state=42)\n",
    "X_train_img = load_data(X_train,(image_w_h,image_w_h))\n",
    "X_val_img = load_data(X_val,(image_w_h,image_w_h))\n",
    "\n",
    "#標準化：降低模型加速收斂\n",
    "X_train = X_train_img/255.0\n",
    "X_val = (X_val_img/255.0)\n",
    "\n",
    "\n",
    "#轉換成類別標籤\n",
    "y_train = to_y_data(y_train.to_list(),3)\n",
    "y_val = to_y_data(y_val.to_list(),3)\n"
   ]
  },
  {
   "cell_type": "code",
   "execution_count": 15,
   "metadata": {
    "execution": {
     "iopub.execute_input": "2025-03-02T15:19:55.605859Z",
     "iopub.status.busy": "2025-03-02T15:19:55.605608Z",
     "iopub.status.idle": "2025-03-02T15:19:55.611822Z",
     "shell.execute_reply": "2025-03-02T15:19:55.611126Z",
     "shell.execute_reply.started": "2025-03-02T15:19:55.605823Z"
    },
    "trusted": true
   },
   "outputs": [
    {
     "name": "stdout",
     "output_type": "stream",
     "text": [
      "X_train (800, 256, 256, 3) y_train (800, 3)\n",
      "X_val   (200, 256, 256, 3)  y_val   (200, 3)\n"
     ]
    }
   ],
   "source": [
    "print('X_train',X_train.shape,'y_train',y_train.shape)\n",
    "print('X_val  ',X_val.shape,' y_val  ',y_val.shape)"
   ]
  },
  {
   "cell_type": "markdown",
   "metadata": {},
   "source": [
    "### 模型架構\n",
    "<h>1.主要是學習量化的語法，所以把Vgg16改成參數凍結，加速模型完成訓練</h>"
   ]
  },
  {
   "cell_type": "code",
   "execution_count": 16,
   "metadata": {},
   "outputs": [
    {
     "name": "stderr",
     "output_type": "stream",
     "text": [
      "2025-03-12 23:09:09.698017: I metal_plugin/src/device/metal_device.cc:1154] Metal device set to: Apple M1\n",
      "2025-03-12 23:09:09.698039: I metal_plugin/src/device/metal_device.cc:296] systemMemory: 16.00 GB\n",
      "2025-03-12 23:09:09.698044: I metal_plugin/src/device/metal_device.cc:313] maxCacheSize: 5.33 GB\n",
      "WARNING: All log messages before absl::InitializeLog() is called are written to STDERR\n",
      "I0000 00:00:1741792149.698054  382774 pluggable_device_factory.cc:305] Could not identify NUMA node of platform GPU ID 0, defaulting to 0. Your kernel may not have been built with NUMA support.\n",
      "I0000 00:00:1741792149.698071  382774 pluggable_device_factory.cc:271] Created TensorFlow device (/job:localhost/replica:0/task:0/device:GPU:0 with 0 MB memory) -> physical PluggableDevice (device: 0, name: METAL, pci bus id: <undefined>)\n"
     ]
    },
    {
     "data": {
      "text/html": [
       "<pre style=\"white-space:pre;overflow-x:auto;line-height:normal;font-family:Menlo,'DejaVu Sans Mono',consolas,'Courier New',monospace\"><span style=\"font-weight: bold\">Model: \"functional\"</span>\n",
       "</pre>\n"
      ],
      "text/plain": [
       "\u001b[1mModel: \"functional\"\u001b[0m\n"
      ]
     },
     "metadata": {},
     "output_type": "display_data"
    },
    {
     "data": {
      "text/html": [
       "<pre style=\"white-space:pre;overflow-x:auto;line-height:normal;font-family:Menlo,'DejaVu Sans Mono',consolas,'Courier New',monospace\">┏━━━━━━━━━━━━━━━━━━━━━━━━━━━━━━━━━┳━━━━━━━━━━━━━━━━━━━━━━━━┳━━━━━━━━━━━━━━━┓\n",
       "┃<span style=\"font-weight: bold\"> Layer (type)                    </span>┃<span style=\"font-weight: bold\"> Output Shape           </span>┃<span style=\"font-weight: bold\">       Param # </span>┃\n",
       "┡━━━━━━━━━━━━━━━━━━━━━━━━━━━━━━━━━╇━━━━━━━━━━━━━━━━━━━━━━━━╇━━━━━━━━━━━━━━━┩\n",
       "│ input_layer (<span style=\"color: #0087ff; text-decoration-color: #0087ff\">InputLayer</span>)        │ (<span style=\"color: #00d7ff; text-decoration-color: #00d7ff\">None</span>, <span style=\"color: #00af00; text-decoration-color: #00af00\">256</span>, <span style=\"color: #00af00; text-decoration-color: #00af00\">256</span>, <span style=\"color: #00af00; text-decoration-color: #00af00\">3</span>)    │             <span style=\"color: #00af00; text-decoration-color: #00af00\">0</span> │\n",
       "├─────────────────────────────────┼────────────────────────┼───────────────┤\n",
       "│ block1_conv1 (<span style=\"color: #0087ff; text-decoration-color: #0087ff\">Conv2D</span>)           │ (<span style=\"color: #00d7ff; text-decoration-color: #00d7ff\">None</span>, <span style=\"color: #00af00; text-decoration-color: #00af00\">256</span>, <span style=\"color: #00af00; text-decoration-color: #00af00\">256</span>, <span style=\"color: #00af00; text-decoration-color: #00af00\">64</span>)   │         <span style=\"color: #00af00; text-decoration-color: #00af00\">1,792</span> │\n",
       "├─────────────────────────────────┼────────────────────────┼───────────────┤\n",
       "│ block1_conv2 (<span style=\"color: #0087ff; text-decoration-color: #0087ff\">Conv2D</span>)           │ (<span style=\"color: #00d7ff; text-decoration-color: #00d7ff\">None</span>, <span style=\"color: #00af00; text-decoration-color: #00af00\">256</span>, <span style=\"color: #00af00; text-decoration-color: #00af00\">256</span>, <span style=\"color: #00af00; text-decoration-color: #00af00\">64</span>)   │        <span style=\"color: #00af00; text-decoration-color: #00af00\">36,928</span> │\n",
       "├─────────────────────────────────┼────────────────────────┼───────────────┤\n",
       "│ block1_pool (<span style=\"color: #0087ff; text-decoration-color: #0087ff\">MaxPooling2D</span>)      │ (<span style=\"color: #00d7ff; text-decoration-color: #00d7ff\">None</span>, <span style=\"color: #00af00; text-decoration-color: #00af00\">128</span>, <span style=\"color: #00af00; text-decoration-color: #00af00\">128</span>, <span style=\"color: #00af00; text-decoration-color: #00af00\">64</span>)   │             <span style=\"color: #00af00; text-decoration-color: #00af00\">0</span> │\n",
       "├─────────────────────────────────┼────────────────────────┼───────────────┤\n",
       "│ block2_conv1 (<span style=\"color: #0087ff; text-decoration-color: #0087ff\">Conv2D</span>)           │ (<span style=\"color: #00d7ff; text-decoration-color: #00d7ff\">None</span>, <span style=\"color: #00af00; text-decoration-color: #00af00\">128</span>, <span style=\"color: #00af00; text-decoration-color: #00af00\">128</span>, <span style=\"color: #00af00; text-decoration-color: #00af00\">128</span>)  │        <span style=\"color: #00af00; text-decoration-color: #00af00\">73,856</span> │\n",
       "├─────────────────────────────────┼────────────────────────┼───────────────┤\n",
       "│ block2_conv2 (<span style=\"color: #0087ff; text-decoration-color: #0087ff\">Conv2D</span>)           │ (<span style=\"color: #00d7ff; text-decoration-color: #00d7ff\">None</span>, <span style=\"color: #00af00; text-decoration-color: #00af00\">128</span>, <span style=\"color: #00af00; text-decoration-color: #00af00\">128</span>, <span style=\"color: #00af00; text-decoration-color: #00af00\">128</span>)  │       <span style=\"color: #00af00; text-decoration-color: #00af00\">147,584</span> │\n",
       "├─────────────────────────────────┼────────────────────────┼───────────────┤\n",
       "│ block2_pool (<span style=\"color: #0087ff; text-decoration-color: #0087ff\">MaxPooling2D</span>)      │ (<span style=\"color: #00d7ff; text-decoration-color: #00d7ff\">None</span>, <span style=\"color: #00af00; text-decoration-color: #00af00\">64</span>, <span style=\"color: #00af00; text-decoration-color: #00af00\">64</span>, <span style=\"color: #00af00; text-decoration-color: #00af00\">128</span>)    │             <span style=\"color: #00af00; text-decoration-color: #00af00\">0</span> │\n",
       "├─────────────────────────────────┼────────────────────────┼───────────────┤\n",
       "│ block3_conv1 (<span style=\"color: #0087ff; text-decoration-color: #0087ff\">Conv2D</span>)           │ (<span style=\"color: #00d7ff; text-decoration-color: #00d7ff\">None</span>, <span style=\"color: #00af00; text-decoration-color: #00af00\">64</span>, <span style=\"color: #00af00; text-decoration-color: #00af00\">64</span>, <span style=\"color: #00af00; text-decoration-color: #00af00\">256</span>)    │       <span style=\"color: #00af00; text-decoration-color: #00af00\">295,168</span> │\n",
       "├─────────────────────────────────┼────────────────────────┼───────────────┤\n",
       "│ block3_conv2 (<span style=\"color: #0087ff; text-decoration-color: #0087ff\">Conv2D</span>)           │ (<span style=\"color: #00d7ff; text-decoration-color: #00d7ff\">None</span>, <span style=\"color: #00af00; text-decoration-color: #00af00\">64</span>, <span style=\"color: #00af00; text-decoration-color: #00af00\">64</span>, <span style=\"color: #00af00; text-decoration-color: #00af00\">256</span>)    │       <span style=\"color: #00af00; text-decoration-color: #00af00\">590,080</span> │\n",
       "├─────────────────────────────────┼────────────────────────┼───────────────┤\n",
       "│ block3_conv3 (<span style=\"color: #0087ff; text-decoration-color: #0087ff\">Conv2D</span>)           │ (<span style=\"color: #00d7ff; text-decoration-color: #00d7ff\">None</span>, <span style=\"color: #00af00; text-decoration-color: #00af00\">64</span>, <span style=\"color: #00af00; text-decoration-color: #00af00\">64</span>, <span style=\"color: #00af00; text-decoration-color: #00af00\">256</span>)    │       <span style=\"color: #00af00; text-decoration-color: #00af00\">590,080</span> │\n",
       "├─────────────────────────────────┼────────────────────────┼───────────────┤\n",
       "│ block3_pool (<span style=\"color: #0087ff; text-decoration-color: #0087ff\">MaxPooling2D</span>)      │ (<span style=\"color: #00d7ff; text-decoration-color: #00d7ff\">None</span>, <span style=\"color: #00af00; text-decoration-color: #00af00\">32</span>, <span style=\"color: #00af00; text-decoration-color: #00af00\">32</span>, <span style=\"color: #00af00; text-decoration-color: #00af00\">256</span>)    │             <span style=\"color: #00af00; text-decoration-color: #00af00\">0</span> │\n",
       "├─────────────────────────────────┼────────────────────────┼───────────────┤\n",
       "│ block4_conv1 (<span style=\"color: #0087ff; text-decoration-color: #0087ff\">Conv2D</span>)           │ (<span style=\"color: #00d7ff; text-decoration-color: #00d7ff\">None</span>, <span style=\"color: #00af00; text-decoration-color: #00af00\">32</span>, <span style=\"color: #00af00; text-decoration-color: #00af00\">32</span>, <span style=\"color: #00af00; text-decoration-color: #00af00\">512</span>)    │     <span style=\"color: #00af00; text-decoration-color: #00af00\">1,180,160</span> │\n",
       "├─────────────────────────────────┼────────────────────────┼───────────────┤\n",
       "│ block4_conv2 (<span style=\"color: #0087ff; text-decoration-color: #0087ff\">Conv2D</span>)           │ (<span style=\"color: #00d7ff; text-decoration-color: #00d7ff\">None</span>, <span style=\"color: #00af00; text-decoration-color: #00af00\">32</span>, <span style=\"color: #00af00; text-decoration-color: #00af00\">32</span>, <span style=\"color: #00af00; text-decoration-color: #00af00\">512</span>)    │     <span style=\"color: #00af00; text-decoration-color: #00af00\">2,359,808</span> │\n",
       "├─────────────────────────────────┼────────────────────────┼───────────────┤\n",
       "│ block4_conv3 (<span style=\"color: #0087ff; text-decoration-color: #0087ff\">Conv2D</span>)           │ (<span style=\"color: #00d7ff; text-decoration-color: #00d7ff\">None</span>, <span style=\"color: #00af00; text-decoration-color: #00af00\">32</span>, <span style=\"color: #00af00; text-decoration-color: #00af00\">32</span>, <span style=\"color: #00af00; text-decoration-color: #00af00\">512</span>)    │     <span style=\"color: #00af00; text-decoration-color: #00af00\">2,359,808</span> │\n",
       "├─────────────────────────────────┼────────────────────────┼───────────────┤\n",
       "│ block4_pool (<span style=\"color: #0087ff; text-decoration-color: #0087ff\">MaxPooling2D</span>)      │ (<span style=\"color: #00d7ff; text-decoration-color: #00d7ff\">None</span>, <span style=\"color: #00af00; text-decoration-color: #00af00\">16</span>, <span style=\"color: #00af00; text-decoration-color: #00af00\">16</span>, <span style=\"color: #00af00; text-decoration-color: #00af00\">512</span>)    │             <span style=\"color: #00af00; text-decoration-color: #00af00\">0</span> │\n",
       "├─────────────────────────────────┼────────────────────────┼───────────────┤\n",
       "│ block5_conv1 (<span style=\"color: #0087ff; text-decoration-color: #0087ff\">Conv2D</span>)           │ (<span style=\"color: #00d7ff; text-decoration-color: #00d7ff\">None</span>, <span style=\"color: #00af00; text-decoration-color: #00af00\">16</span>, <span style=\"color: #00af00; text-decoration-color: #00af00\">16</span>, <span style=\"color: #00af00; text-decoration-color: #00af00\">512</span>)    │     <span style=\"color: #00af00; text-decoration-color: #00af00\">2,359,808</span> │\n",
       "├─────────────────────────────────┼────────────────────────┼───────────────┤\n",
       "│ block5_conv2 (<span style=\"color: #0087ff; text-decoration-color: #0087ff\">Conv2D</span>)           │ (<span style=\"color: #00d7ff; text-decoration-color: #00d7ff\">None</span>, <span style=\"color: #00af00; text-decoration-color: #00af00\">16</span>, <span style=\"color: #00af00; text-decoration-color: #00af00\">16</span>, <span style=\"color: #00af00; text-decoration-color: #00af00\">512</span>)    │     <span style=\"color: #00af00; text-decoration-color: #00af00\">2,359,808</span> │\n",
       "├─────────────────────────────────┼────────────────────────┼───────────────┤\n",
       "│ block5_conv3 (<span style=\"color: #0087ff; text-decoration-color: #0087ff\">Conv2D</span>)           │ (<span style=\"color: #00d7ff; text-decoration-color: #00d7ff\">None</span>, <span style=\"color: #00af00; text-decoration-color: #00af00\">16</span>, <span style=\"color: #00af00; text-decoration-color: #00af00\">16</span>, <span style=\"color: #00af00; text-decoration-color: #00af00\">512</span>)    │     <span style=\"color: #00af00; text-decoration-color: #00af00\">2,359,808</span> │\n",
       "├─────────────────────────────────┼────────────────────────┼───────────────┤\n",
       "│ block5_pool (<span style=\"color: #0087ff; text-decoration-color: #0087ff\">MaxPooling2D</span>)      │ (<span style=\"color: #00d7ff; text-decoration-color: #00d7ff\">None</span>, <span style=\"color: #00af00; text-decoration-color: #00af00\">8</span>, <span style=\"color: #00af00; text-decoration-color: #00af00\">8</span>, <span style=\"color: #00af00; text-decoration-color: #00af00\">512</span>)      │             <span style=\"color: #00af00; text-decoration-color: #00af00\">0</span> │\n",
       "├─────────────────────────────────┼────────────────────────┼───────────────┤\n",
       "│ flatten (<span style=\"color: #0087ff; text-decoration-color: #0087ff\">Flatten</span>)               │ (<span style=\"color: #00d7ff; text-decoration-color: #00d7ff\">None</span>, <span style=\"color: #00af00; text-decoration-color: #00af00\">32768</span>)          │             <span style=\"color: #00af00; text-decoration-color: #00af00\">0</span> │\n",
       "├─────────────────────────────────┼────────────────────────┼───────────────┤\n",
       "│ dense (<span style=\"color: #0087ff; text-decoration-color: #0087ff\">Dense</span>)                   │ (<span style=\"color: #00d7ff; text-decoration-color: #00d7ff\">None</span>, <span style=\"color: #00af00; text-decoration-color: #00af00\">50</span>)             │     <span style=\"color: #00af00; text-decoration-color: #00af00\">1,638,450</span> │\n",
       "├─────────────────────────────────┼────────────────────────┼───────────────┤\n",
       "│ dense_1 (<span style=\"color: #0087ff; text-decoration-color: #0087ff\">Dense</span>)                 │ (<span style=\"color: #00d7ff; text-decoration-color: #00d7ff\">None</span>, <span style=\"color: #00af00; text-decoration-color: #00af00\">3</span>)              │           <span style=\"color: #00af00; text-decoration-color: #00af00\">153</span> │\n",
       "└─────────────────────────────────┴────────────────────────┴───────────────┘\n",
       "</pre>\n"
      ],
      "text/plain": [
       "┏━━━━━━━━━━━━━━━━━━━━━━━━━━━━━━━━━┳━━━━━━━━━━━━━━━━━━━━━━━━┳━━━━━━━━━━━━━━━┓\n",
       "┃\u001b[1m \u001b[0m\u001b[1mLayer (type)                   \u001b[0m\u001b[1m \u001b[0m┃\u001b[1m \u001b[0m\u001b[1mOutput Shape          \u001b[0m\u001b[1m \u001b[0m┃\u001b[1m \u001b[0m\u001b[1m      Param #\u001b[0m\u001b[1m \u001b[0m┃\n",
       "┡━━━━━━━━━━━━━━━━━━━━━━━━━━━━━━━━━╇━━━━━━━━━━━━━━━━━━━━━━━━╇━━━━━━━━━━━━━━━┩\n",
       "│ input_layer (\u001b[38;5;33mInputLayer\u001b[0m)        │ (\u001b[38;5;45mNone\u001b[0m, \u001b[38;5;34m256\u001b[0m, \u001b[38;5;34m256\u001b[0m, \u001b[38;5;34m3\u001b[0m)    │             \u001b[38;5;34m0\u001b[0m │\n",
       "├─────────────────────────────────┼────────────────────────┼───────────────┤\n",
       "│ block1_conv1 (\u001b[38;5;33mConv2D\u001b[0m)           │ (\u001b[38;5;45mNone\u001b[0m, \u001b[38;5;34m256\u001b[0m, \u001b[38;5;34m256\u001b[0m, \u001b[38;5;34m64\u001b[0m)   │         \u001b[38;5;34m1,792\u001b[0m │\n",
       "├─────────────────────────────────┼────────────────────────┼───────────────┤\n",
       "│ block1_conv2 (\u001b[38;5;33mConv2D\u001b[0m)           │ (\u001b[38;5;45mNone\u001b[0m, \u001b[38;5;34m256\u001b[0m, \u001b[38;5;34m256\u001b[0m, \u001b[38;5;34m64\u001b[0m)   │        \u001b[38;5;34m36,928\u001b[0m │\n",
       "├─────────────────────────────────┼────────────────────────┼───────────────┤\n",
       "│ block1_pool (\u001b[38;5;33mMaxPooling2D\u001b[0m)      │ (\u001b[38;5;45mNone\u001b[0m, \u001b[38;5;34m128\u001b[0m, \u001b[38;5;34m128\u001b[0m, \u001b[38;5;34m64\u001b[0m)   │             \u001b[38;5;34m0\u001b[0m │\n",
       "├─────────────────────────────────┼────────────────────────┼───────────────┤\n",
       "│ block2_conv1 (\u001b[38;5;33mConv2D\u001b[0m)           │ (\u001b[38;5;45mNone\u001b[0m, \u001b[38;5;34m128\u001b[0m, \u001b[38;5;34m128\u001b[0m, \u001b[38;5;34m128\u001b[0m)  │        \u001b[38;5;34m73,856\u001b[0m │\n",
       "├─────────────────────────────────┼────────────────────────┼───────────────┤\n",
       "│ block2_conv2 (\u001b[38;5;33mConv2D\u001b[0m)           │ (\u001b[38;5;45mNone\u001b[0m, \u001b[38;5;34m128\u001b[0m, \u001b[38;5;34m128\u001b[0m, \u001b[38;5;34m128\u001b[0m)  │       \u001b[38;5;34m147,584\u001b[0m │\n",
       "├─────────────────────────────────┼────────────────────────┼───────────────┤\n",
       "│ block2_pool (\u001b[38;5;33mMaxPooling2D\u001b[0m)      │ (\u001b[38;5;45mNone\u001b[0m, \u001b[38;5;34m64\u001b[0m, \u001b[38;5;34m64\u001b[0m, \u001b[38;5;34m128\u001b[0m)    │             \u001b[38;5;34m0\u001b[0m │\n",
       "├─────────────────────────────────┼────────────────────────┼───────────────┤\n",
       "│ block3_conv1 (\u001b[38;5;33mConv2D\u001b[0m)           │ (\u001b[38;5;45mNone\u001b[0m, \u001b[38;5;34m64\u001b[0m, \u001b[38;5;34m64\u001b[0m, \u001b[38;5;34m256\u001b[0m)    │       \u001b[38;5;34m295,168\u001b[0m │\n",
       "├─────────────────────────────────┼────────────────────────┼───────────────┤\n",
       "│ block3_conv2 (\u001b[38;5;33mConv2D\u001b[0m)           │ (\u001b[38;5;45mNone\u001b[0m, \u001b[38;5;34m64\u001b[0m, \u001b[38;5;34m64\u001b[0m, \u001b[38;5;34m256\u001b[0m)    │       \u001b[38;5;34m590,080\u001b[0m │\n",
       "├─────────────────────────────────┼────────────────────────┼───────────────┤\n",
       "│ block3_conv3 (\u001b[38;5;33mConv2D\u001b[0m)           │ (\u001b[38;5;45mNone\u001b[0m, \u001b[38;5;34m64\u001b[0m, \u001b[38;5;34m64\u001b[0m, \u001b[38;5;34m256\u001b[0m)    │       \u001b[38;5;34m590,080\u001b[0m │\n",
       "├─────────────────────────────────┼────────────────────────┼───────────────┤\n",
       "│ block3_pool (\u001b[38;5;33mMaxPooling2D\u001b[0m)      │ (\u001b[38;5;45mNone\u001b[0m, \u001b[38;5;34m32\u001b[0m, \u001b[38;5;34m32\u001b[0m, \u001b[38;5;34m256\u001b[0m)    │             \u001b[38;5;34m0\u001b[0m │\n",
       "├─────────────────────────────────┼────────────────────────┼───────────────┤\n",
       "│ block4_conv1 (\u001b[38;5;33mConv2D\u001b[0m)           │ (\u001b[38;5;45mNone\u001b[0m, \u001b[38;5;34m32\u001b[0m, \u001b[38;5;34m32\u001b[0m, \u001b[38;5;34m512\u001b[0m)    │     \u001b[38;5;34m1,180,160\u001b[0m │\n",
       "├─────────────────────────────────┼────────────────────────┼───────────────┤\n",
       "│ block4_conv2 (\u001b[38;5;33mConv2D\u001b[0m)           │ (\u001b[38;5;45mNone\u001b[0m, \u001b[38;5;34m32\u001b[0m, \u001b[38;5;34m32\u001b[0m, \u001b[38;5;34m512\u001b[0m)    │     \u001b[38;5;34m2,359,808\u001b[0m │\n",
       "├─────────────────────────────────┼────────────────────────┼───────────────┤\n",
       "│ block4_conv3 (\u001b[38;5;33mConv2D\u001b[0m)           │ (\u001b[38;5;45mNone\u001b[0m, \u001b[38;5;34m32\u001b[0m, \u001b[38;5;34m32\u001b[0m, \u001b[38;5;34m512\u001b[0m)    │     \u001b[38;5;34m2,359,808\u001b[0m │\n",
       "├─────────────────────────────────┼────────────────────────┼───────────────┤\n",
       "│ block4_pool (\u001b[38;5;33mMaxPooling2D\u001b[0m)      │ (\u001b[38;5;45mNone\u001b[0m, \u001b[38;5;34m16\u001b[0m, \u001b[38;5;34m16\u001b[0m, \u001b[38;5;34m512\u001b[0m)    │             \u001b[38;5;34m0\u001b[0m │\n",
       "├─────────────────────────────────┼────────────────────────┼───────────────┤\n",
       "│ block5_conv1 (\u001b[38;5;33mConv2D\u001b[0m)           │ (\u001b[38;5;45mNone\u001b[0m, \u001b[38;5;34m16\u001b[0m, \u001b[38;5;34m16\u001b[0m, \u001b[38;5;34m512\u001b[0m)    │     \u001b[38;5;34m2,359,808\u001b[0m │\n",
       "├─────────────────────────────────┼────────────────────────┼───────────────┤\n",
       "│ block5_conv2 (\u001b[38;5;33mConv2D\u001b[0m)           │ (\u001b[38;5;45mNone\u001b[0m, \u001b[38;5;34m16\u001b[0m, \u001b[38;5;34m16\u001b[0m, \u001b[38;5;34m512\u001b[0m)    │     \u001b[38;5;34m2,359,808\u001b[0m │\n",
       "├─────────────────────────────────┼────────────────────────┼───────────────┤\n",
       "│ block5_conv3 (\u001b[38;5;33mConv2D\u001b[0m)           │ (\u001b[38;5;45mNone\u001b[0m, \u001b[38;5;34m16\u001b[0m, \u001b[38;5;34m16\u001b[0m, \u001b[38;5;34m512\u001b[0m)    │     \u001b[38;5;34m2,359,808\u001b[0m │\n",
       "├─────────────────────────────────┼────────────────────────┼───────────────┤\n",
       "│ block5_pool (\u001b[38;5;33mMaxPooling2D\u001b[0m)      │ (\u001b[38;5;45mNone\u001b[0m, \u001b[38;5;34m8\u001b[0m, \u001b[38;5;34m8\u001b[0m, \u001b[38;5;34m512\u001b[0m)      │             \u001b[38;5;34m0\u001b[0m │\n",
       "├─────────────────────────────────┼────────────────────────┼───────────────┤\n",
       "│ flatten (\u001b[38;5;33mFlatten\u001b[0m)               │ (\u001b[38;5;45mNone\u001b[0m, \u001b[38;5;34m32768\u001b[0m)          │             \u001b[38;5;34m0\u001b[0m │\n",
       "├─────────────────────────────────┼────────────────────────┼───────────────┤\n",
       "│ dense (\u001b[38;5;33mDense\u001b[0m)                   │ (\u001b[38;5;45mNone\u001b[0m, \u001b[38;5;34m50\u001b[0m)             │     \u001b[38;5;34m1,638,450\u001b[0m │\n",
       "├─────────────────────────────────┼────────────────────────┼───────────────┤\n",
       "│ dense_1 (\u001b[38;5;33mDense\u001b[0m)                 │ (\u001b[38;5;45mNone\u001b[0m, \u001b[38;5;34m3\u001b[0m)              │           \u001b[38;5;34m153\u001b[0m │\n",
       "└─────────────────────────────────┴────────────────────────┴───────────────┘\n"
      ]
     },
     "metadata": {},
     "output_type": "display_data"
    },
    {
     "data": {
      "text/html": [
       "<pre style=\"white-space:pre;overflow-x:auto;line-height:normal;font-family:Menlo,'DejaVu Sans Mono',consolas,'Courier New',monospace\"><span style=\"font-weight: bold\"> Total params: </span><span style=\"color: #00af00; text-decoration-color: #00af00\">16,353,291</span> (62.38 MB)\n",
       "</pre>\n"
      ],
      "text/plain": [
       "\u001b[1m Total params: \u001b[0m\u001b[38;5;34m16,353,291\u001b[0m (62.38 MB)\n"
      ]
     },
     "metadata": {},
     "output_type": "display_data"
    },
    {
     "data": {
      "text/html": [
       "<pre style=\"white-space:pre;overflow-x:auto;line-height:normal;font-family:Menlo,'DejaVu Sans Mono',consolas,'Courier New',monospace\"><span style=\"font-weight: bold\"> Trainable params: </span><span style=\"color: #00af00; text-decoration-color: #00af00\">1,638,603</span> (6.25 MB)\n",
       "</pre>\n"
      ],
      "text/plain": [
       "\u001b[1m Trainable params: \u001b[0m\u001b[38;5;34m1,638,603\u001b[0m (6.25 MB)\n"
      ]
     },
     "metadata": {},
     "output_type": "display_data"
    },
    {
     "data": {
      "text/html": [
       "<pre style=\"white-space:pre;overflow-x:auto;line-height:normal;font-family:Menlo,'DejaVu Sans Mono',consolas,'Courier New',monospace\"><span style=\"font-weight: bold\"> Non-trainable params: </span><span style=\"color: #00af00; text-decoration-color: #00af00\">14,714,688</span> (56.13 MB)\n",
       "</pre>\n"
      ],
      "text/plain": [
       "\u001b[1m Non-trainable params: \u001b[0m\u001b[38;5;34m14,714,688\u001b[0m (56.13 MB)\n"
      ]
     },
     "metadata": {},
     "output_type": "display_data"
    }
   ],
   "source": [
    "vgg = tf.keras.applications.VGG16(include_top = False,input_shape = (image_w_h,image_w_h,3))\n",
    "vgg.trainable=False\n",
    "x = tf.keras.layers.Flatten()(vgg.output)\n",
    "x = tf.keras.layers.Dense(50,activation='relu')(x)\n",
    "x = tf.keras.layers.Dense(3, activation = 'softmax')(x)\n",
    "model = tf.keras.Model(vgg.input, x)\n",
    "model.compile(loss='categorical_crossentropy',\n",
    "              optimizer=tf.keras.optimizers.Adam(learning_rate=0.00001),\n",
    "              metrics=['accuracy','auc','recall','precision'])\n",
    "model.summary()"
   ]
  },
  {
   "cell_type": "code",
   "execution_count": 17,
   "metadata": {},
   "outputs": [],
   "source": [
    "callback = tf.keras.callbacks.EarlyStopping(monitor='val_accuracy',mode='max',\n",
    "                                            restore_best_weights=True,\n",
    "                                            min_delta=0.025,\n",
    "                                            start_from_epoch=3,\n",
    "                                            patience=3)"
   ]
  },
  {
   "cell_type": "code",
   "execution_count": 18,
   "metadata": {},
   "outputs": [
    {
     "name": "stdout",
     "output_type": "stream",
     "text": [
      "Epoch 1/20\n"
     ]
    },
    {
     "name": "stderr",
     "output_type": "stream",
     "text": [
      "2025-03-12 23:09:10.812038: I tensorflow/core/grappler/optimizers/custom_graph_optimizer_registry.cc:117] Plugin optimizer for device_type GPU is enabled.\n"
     ]
    },
    {
     "name": "stdout",
     "output_type": "stream",
     "text": [
      "\u001b[1m16/16\u001b[0m \u001b[32m━━━━━━━━━━━━━━━━━━━━\u001b[0m\u001b[37m\u001b[0m \u001b[1m19s\u001b[0m 1s/step - accuracy: 0.4090 - auc: 0.5650 - loss: 1.2141 - precision: 0.4234 - recall: 0.2801 - val_accuracy: 0.5150 - val_auc: 0.7312 - val_loss: 0.9945 - val_precision: 0.8750 - val_recall: 0.0700\n",
      "Epoch 2/20\n",
      "\u001b[1m16/16\u001b[0m \u001b[32m━━━━━━━━━━━━━━━━━━━━\u001b[0m\u001b[37m\u001b[0m \u001b[1m17s\u001b[0m 1s/step - accuracy: 0.5392 - auc: 0.7472 - loss: 0.9703 - precision: 0.7543 - recall: 0.0883 - val_accuracy: 0.7150 - val_auc: 0.8621 - val_loss: 0.8765 - val_precision: 0.8800 - val_recall: 0.2200\n",
      "Epoch 3/20\n",
      "\u001b[1m16/16\u001b[0m \u001b[32m━━━━━━━━━━━━━━━━━━━━\u001b[0m\u001b[37m\u001b[0m \u001b[1m17s\u001b[0m 1s/step - accuracy: 0.7241 - auc: 0.8820 - loss: 0.8460 - precision: 0.8871 - recall: 0.2678 - val_accuracy: 0.7800 - val_auc: 0.9103 - val_loss: 0.7694 - val_precision: 0.9186 - val_recall: 0.3950\n",
      "Epoch 4/20\n",
      "\u001b[1m16/16\u001b[0m \u001b[32m━━━━━━━━━━━━━━━━━━━━\u001b[0m\u001b[37m\u001b[0m \u001b[1m17s\u001b[0m 1s/step - accuracy: 0.7890 - auc: 0.9192 - loss: 0.7518 - precision: 0.8824 - recall: 0.4181 - val_accuracy: 0.8150 - val_auc: 0.9331 - val_loss: 0.6932 - val_precision: 0.9016 - val_recall: 0.5500\n",
      "Epoch 5/20\n",
      "\u001b[1m16/16\u001b[0m \u001b[32m━━━━━━━━━━━━━━━━━━━━\u001b[0m\u001b[37m\u001b[0m \u001b[1m17s\u001b[0m 1s/step - accuracy: 0.8463 - auc: 0.9388 - loss: 0.6736 - precision: 0.9023 - recall: 0.5736 - val_accuracy: 0.8300 - val_auc: 0.9410 - val_loss: 0.6326 - val_precision: 0.8904 - val_recall: 0.6500\n",
      "Epoch 6/20\n",
      "\u001b[1m16/16\u001b[0m \u001b[32m━━━━━━━━━━━━━━━━━━━━\u001b[0m\u001b[37m\u001b[0m \u001b[1m17s\u001b[0m 1s/step - accuracy: 0.8604 - auc: 0.9470 - loss: 0.6105 - precision: 0.9076 - recall: 0.7017 - val_accuracy: 0.8300 - val_auc: 0.9466 - val_loss: 0.5836 - val_precision: 0.8797 - val_recall: 0.6950\n",
      "Epoch 7/20\n",
      "\u001b[1m16/16\u001b[0m \u001b[32m━━━━━━━━━━━━━━━━━━━━\u001b[0m\u001b[37m\u001b[0m \u001b[1m17s\u001b[0m 1s/step - accuracy: 0.8551 - auc: 0.9533 - loss: 0.5580 - precision: 0.9211 - recall: 0.7793 - val_accuracy: 0.8350 - val_auc: 0.9517 - val_loss: 0.5412 - val_precision: 0.8851 - val_recall: 0.7700\n"
     ]
    }
   ],
   "source": [
    "history = model.fit(X_train, y_train,batch_size=50,validation_data=(X_val,y_val), epochs=20,callbacks=[callback])"
   ]
  },
  {
   "cell_type": "code",
   "execution_count": null,
   "metadata": {},
   "outputs": [
    {
     "data": {
      "image/png": "[encoded data removed]",
      "text/plain": [
       "<Figure size 1600x400 with 5 Axes>"
      ]
     },
     "metadata": {},
     "output_type": "display_data"
    }
   ],
   "source": [
    "df_hostory = pd.DataFrame(history.history)\n",
    "df_hostory['epochs'] = df_hostory.index\n",
    "fig, axes = plt.subplots(1,5,figsize=(16,4))\n",
    "lst = ['accuracy','auc','loss','recall','precision']\n",
    "for i in range(len(lst)):\n",
    "    axes[i].set_title(lst[i])\n",
    "    sns.lineplot(df_hostory,x='epochs',y=lst[i],label='train',ax=axes[i])\n",
    "    sns.lineplot(df_hostory,x='epochs',y='val_'+lst[i],label='val',ax=axes[i])\n",
    "    axes[i].set_ylabel('')\n",
    "    axes[i].set_xlabel('')\n",
    "plt.show()"
   ]
  },
  {
   "cell_type": "markdown",
   "metadata": {},
   "source": [
    "### 搭建要量化的模型架構\n",
    "<h>1.要量化的模型需使用不同的模組的keras建立架構</h>\n",
    "\n",
    "<h>2.嘗試過程有發現Sequential model不能直接進行量化，所以，才改成functional建立架構，這也是為什麼上面會用functional的方式建構</h>\n",
    "\n",
    "<h>3.functional另一個好處是相同結構的模型可以輕鬆的傳遞訓練好的的權重</h>\n",
    "\n",
    "<h>4.延續3下方的模型也可以訓練，這邊故意嘗試不同模組看權重是否能共用</h>"
   ]
  },
  {
   "cell_type": "code",
   "execution_count": null,
   "metadata": {},
   "outputs": [],
   "source": [
    "from tensorflow_model_optimization.python.core.keras.compat import keras"
   ]
  },
  {
   "cell_type": "code",
   "execution_count": 83,
   "metadata": {},
   "outputs": [
    {
     "name": "stderr",
     "output_type": "stream",
     "text": [
      "WARNING:absl:At this time, the v2.11+ optimizer `tf.keras.optimizers.Adam` runs slowly on M1/M2 Macs, please use the legacy TF-Keras optimizer instead, located at `tf.keras.optimizers.legacy.Adam`.\n"
     ]
    },
    {
     "name": "stdout",
     "output_type": "stream",
     "text": [
      "Model: \"model_1\"\n",
      "_________________________________________________________________\n",
      " Layer (type)                Output Shape              Param #   \n",
      "=================================================================\n",
      " input_2 (InputLayer)        [(None, 256, 256, 3)]     0         \n",
      "                                                                 \n",
      " block1_conv1 (Conv2D)       (None, 256, 256, 64)      1792      \n",
      "                                                                 \n",
      " block1_conv2 (Conv2D)       (None, 256, 256, 64)      36928     \n",
      "                                                                 \n",
      " block1_pool (MaxPooling2D)  (None, 128, 128, 64)      0         \n",
      "                                                                 \n",
      " block2_conv1 (Conv2D)       (None, 128, 128, 128)     73856     \n",
      "                                                                 \n",
      " block2_conv2 (Conv2D)       (None, 128, 128, 128)     147584    \n",
      "                                                                 \n",
      " block2_pool (MaxPooling2D)  (None, 64, 64, 128)       0         \n",
      "                                                                 \n",
      " block3_conv1 (Conv2D)       (None, 64, 64, 256)       295168    \n",
      "                                                                 \n",
      " block3_conv2 (Conv2D)       (None, 64, 64, 256)       590080    \n",
      "                                                                 \n",
      " block3_conv3 (Conv2D)       (None, 64, 64, 256)       590080    \n",
      "                                                                 \n",
      " block3_pool (MaxPooling2D)  (None, 32, 32, 256)       0         \n",
      "                                                                 \n",
      " block4_conv1 (Conv2D)       (None, 32, 32, 512)       1180160   \n",
      "                                                                 \n",
      " block4_conv2 (Conv2D)       (None, 32, 32, 512)       2359808   \n",
      "                                                                 \n",
      " block4_conv3 (Conv2D)       (None, 32, 32, 512)       2359808   \n",
      "                                                                 \n",
      " block4_pool (MaxPooling2D)  (None, 16, 16, 512)       0         \n",
      "                                                                 \n",
      " block5_conv1 (Conv2D)       (None, 16, 16, 512)       2359808   \n",
      "                                                                 \n",
      " block5_conv2 (Conv2D)       (None, 16, 16, 512)       2359808   \n",
      "                                                                 \n",
      " block5_conv3 (Conv2D)       (None, 16, 16, 512)       2359808   \n",
      "                                                                 \n",
      " block5_pool (MaxPooling2D)  (None, 8, 8, 512)         0         \n",
      "                                                                 \n",
      " flatten_1 (Flatten)         (None, 32768)             0         \n",
      "                                                                 \n",
      " dense_2 (Dense)             (None, 50)                1638450   \n",
      "                                                                 \n",
      " dense_3 (Dense)             (None, 3)                 153       \n",
      "                                                                 \n",
      "=================================================================\n",
      "Total params: 16353291 (62.38 MB)\n",
      "Trainable params: 1638603 (6.25 MB)\n",
      "Non-trainable params: 14714688 (56.13 MB)\n",
      "_________________________________________________________________\n"
     ]
    }
   ],
   "source": [
    "vgg = keras.applications.VGG16(include_top = False,input_shape = (image_w_h,image_w_h,3))\n",
    "vgg.trainable=False\n",
    "x = keras.layers.Flatten()(vgg.output)\n",
    "x = keras.layers.Dense(50,activation='relu')(x)\n",
    "x = keras.layers.Dense(3, activation = 'softmax')(x)\n",
    "model_for_q = keras.Model(vgg.input, x)\n",
    "model_for_q.compile(loss='categorical_crossentropy',\n",
    "              optimizer=keras.optimizers.Adam(learning_rate=0.00001),\n",
    "              metrics=['accuracy','auc','recall','precision'])\n",
    "model_for_q.summary()"
   ]
  },
  {
   "cell_type": "markdown",
   "metadata": {},
   "source": [
    "### 塞入前訓練好的權重"
   ]
  },
  {
   "cell_type": "code",
   "execution_count": 84,
   "metadata": {},
   "outputs": [],
   "source": [
    "for i in range(len(model.layers)):\n",
    "    model_for_q.layers[i].set_weights(model.layers[i].get_weights())"
   ]
  },
  {
   "cell_type": "markdown",
   "metadata": {},
   "source": [
    "### 進行模擬的量化感知訓練(QAT)\n",
    "\n",
    "<h>1.這邊有個重點，目前tensorflow的QAT不能凍結權重</h>\n",
    "\n",
    "<h>2.同時也可以觀察一下，如果沒凍結的話模型量化前後的差異</h>"
   ]
  },
  {
   "cell_type": "code",
   "execution_count": 56,
   "metadata": {},
   "outputs": [],
   "source": [
    "import tensorflow_model_optimization as tfmot"
   ]
  },
  {
   "cell_type": "code",
   "execution_count": 86,
   "metadata": {},
   "outputs": [],
   "source": [
    "# q_aware stands for for quantization aware.\n",
    "q_aware_model = tfmot.quantization.keras.quantize_model(model_for_q)"
   ]
  },
  {
   "cell_type": "code",
   "execution_count": 100,
   "metadata": {},
   "outputs": [
    {
     "name": "stdout",
     "output_type": "stream",
     "text": [
      "Model: \"model_1\"\n",
      "_________________________________________________________________\n",
      " Layer (type)                Output Shape              Param #   \n",
      "=================================================================\n",
      " input_2 (InputLayer)        [(None, 256, 256, 3)]     0         \n",
      "                                                                 \n",
      " quantize_layer_6 (Quantize  (None, 256, 256, 3)       3         \n",
      " Layer)                                                          \n",
      "                                                                 \n",
      " quant_block1_conv1 (Quanti  (None, 256, 256, 64)      1923      \n",
      " zeWrapperV2)                                                    \n",
      "                                                                 \n",
      " quant_block1_conv2 (Quanti  (None, 256, 256, 64)      37059     \n",
      " zeWrapperV2)                                                    \n",
      "                                                                 \n",
      " quant_block1_pool (Quantiz  (None, 128, 128, 64)      1         \n",
      " eWrapperV2)                                                     \n",
      "                                                                 \n",
      " quant_block2_conv1 (Quanti  (None, 128, 128, 128)     74115     \n",
      " zeWrapperV2)                                                    \n",
      "                                                                 \n",
      " quant_block2_conv2 (Quanti  (None, 128, 128, 128)     147843    \n",
      " zeWrapperV2)                                                    \n",
      "                                                                 \n",
      " quant_block2_pool (Quantiz  (None, 64, 64, 128)       1         \n",
      " eWrapperV2)                                                     \n",
      "                                                                 \n",
      " quant_block3_conv1 (Quanti  (None, 64, 64, 256)       295683    \n",
      " zeWrapperV2)                                                    \n",
      "                                                                 \n",
      " quant_block3_conv2 (Quanti  (None, 64, 64, 256)       590595    \n",
      " zeWrapperV2)                                                    \n",
      "                                                                 \n",
      " quant_block3_conv3 (Quanti  (None, 64, 64, 256)       590595    \n",
      " zeWrapperV2)                                                    \n",
      "                                                                 \n",
      " quant_block3_pool (Quantiz  (None, 32, 32, 256)       1         \n",
      " eWrapperV2)                                                     \n",
      "                                                                 \n",
      " quant_block4_conv1 (Quanti  (None, 32, 32, 512)       1181187   \n",
      " zeWrapperV2)                                                    \n",
      "                                                                 \n",
      " quant_block4_conv2 (Quanti  (None, 32, 32, 512)       2360835   \n",
      " zeWrapperV2)                                                    \n",
      "                                                                 \n",
      " quant_block4_conv3 (Quanti  (None, 32, 32, 512)       2360835   \n",
      " zeWrapperV2)                                                    \n",
      "                                                                 \n",
      " quant_block4_pool (Quantiz  (None, 16, 16, 512)       1         \n",
      " eWrapperV2)                                                     \n",
      "                                                                 \n",
      " quant_block5_conv1 (Quanti  (None, 16, 16, 512)       2360835   \n",
      " zeWrapperV2)                                                    \n",
      "                                                                 \n",
      " quant_block5_conv2 (Quanti  (None, 16, 16, 512)       2360835   \n",
      " zeWrapperV2)                                                    \n",
      "                                                                 \n",
      " quant_block5_conv3 (Quanti  (None, 16, 16, 512)       2360835   \n",
      " zeWrapperV2)                                                    \n",
      "                                                                 \n",
      " quant_block5_pool (Quantiz  (None, 8, 8, 512)         1         \n",
      " eWrapperV2)                                                     \n",
      "                                                                 \n",
      " quant_flatten_1 (QuantizeW  (None, 32768)             1         \n",
      " rapperV2)                                                       \n",
      "                                                                 \n",
      " quant_dense_2 (QuantizeWra  (None, 50)                1638455   \n",
      " pperV2)                                                         \n",
      "                                                                 \n",
      " quant_dense_3 (QuantizeWra  (None, 3)                 158       \n",
      " pperV2)                                                         \n",
      "                                                                 \n",
      "=================================================================\n",
      "Total params: 16361797 (62.42 MB)\n",
      "Trainable params: 16349067 (62.37 MB)\n",
      "Non-trainable params: 12730 (49.73 KB)\n",
      "_________________________________________________________________\n"
     ]
    }
   ],
   "source": [
    "# `quantize_model` requires a recompile.\n",
    "q_aware_model.compile(loss=keras.losses.categorical_crossentropy,\n",
    "              optimizer=keras.optimizers.legacy.Adam(learning_rate=0.00001),\n",
    "              metrics=[keras.metrics.CategoricalAccuracy(),keras.metrics.AUC(),keras.metrics.Recall(),keras.metrics.Precision()])\n",
    "\n",
    "q_aware_model.summary()"
   ]
  },
  {
   "cell_type": "code",
   "execution_count": 102,
   "metadata": {},
   "outputs": [
    {
     "name": "stdout",
     "output_type": "stream",
     "text": [
      "Model: \"model_1\"\n",
      "_________________________________________________________________\n",
      " Layer (type)                Output Shape              Param #   \n",
      "=================================================================\n",
      " input_2 (InputLayer)        [(None, 256, 256, 3)]     0         \n",
      "                                                                 \n",
      " quantize_layer_6 (Quantize  (None, 256, 256, 3)       3         \n",
      " Layer)                                                          \n",
      "                                                                 \n",
      " quant_block1_conv1 (Quanti  (None, 256, 256, 64)      1923      \n",
      " zeWrapperV2)                                                    \n",
      "                                                                 \n",
      " quant_block1_conv2 (Quanti  (None, 256, 256, 64)      37059     \n",
      " zeWrapperV2)                                                    \n",
      "                                                                 \n",
      " quant_block1_pool (Quantiz  (None, 128, 128, 64)      1         \n",
      " eWrapperV2)                                                     \n",
      "                                                                 \n",
      " quant_block2_conv1 (Quanti  (None, 128, 128, 128)     74115     \n",
      " zeWrapperV2)                                                    \n",
      "                                                                 \n",
      " quant_block2_conv2 (Quanti  (None, 128, 128, 128)     147843    \n",
      " zeWrapperV2)                                                    \n",
      "                                                                 \n",
      " quant_block2_pool (Quantiz  (None, 64, 64, 128)       1         \n",
      " eWrapperV2)                                                     \n",
      "                                                                 \n",
      " quant_block3_conv1 (Quanti  (None, 64, 64, 256)       295683    \n",
      " zeWrapperV2)                                                    \n",
      "                                                                 \n",
      " quant_block3_conv2 (Quanti  (None, 64, 64, 256)       590595    \n",
      " zeWrapperV2)                                                    \n",
      "                                                                 \n",
      " quant_block3_conv3 (Quanti  (None, 64, 64, 256)       590595    \n",
      " zeWrapperV2)                                                    \n",
      "                                                                 \n",
      " quant_block3_pool (Quantiz  (None, 32, 32, 256)       1         \n",
      " eWrapperV2)                                                     \n",
      "                                                                 \n",
      " quant_block4_conv1 (Quanti  (None, 32, 32, 512)       1181187   \n",
      " zeWrapperV2)                                                    \n",
      "                                                                 \n",
      " quant_block4_conv2 (Quanti  (None, 32, 32, 512)       2360835   \n",
      " zeWrapperV2)                                                    \n",
      "                                                                 \n",
      " quant_block4_conv3 (Quanti  (None, 32, 32, 512)       2360835   \n",
      " zeWrapperV2)                                                    \n",
      "                                                                 \n",
      " quant_block4_pool (Quantiz  (None, 16, 16, 512)       1         \n",
      " eWrapperV2)                                                     \n",
      "                                                                 \n",
      " quant_block5_conv1 (Quanti  (None, 16, 16, 512)       2360835   \n",
      " zeWrapperV2)                                                    \n",
      "                                                                 \n",
      " quant_block5_conv2 (Quanti  (None, 16, 16, 512)       2360835   \n",
      " zeWrapperV2)                                                    \n",
      "                                                                 \n",
      " quant_block5_conv3 (Quanti  (None, 16, 16, 512)       2360835   \n",
      " zeWrapperV2)                                                    \n",
      "                                                                 \n",
      " quant_block5_pool (Quantiz  (None, 8, 8, 512)         1         \n",
      " eWrapperV2)                                                     \n",
      "                                                                 \n",
      " quant_flatten_1 (QuantizeW  (None, 32768)             1         \n",
      " rapperV2)                                                       \n",
      "                                                                 \n",
      " quant_dense_2 (QuantizeWra  (None, 50)                1638455   \n",
      " pperV2)                                                         \n",
      "                                                                 \n",
      " quant_dense_3 (QuantizeWra  (None, 3)                 158       \n",
      " pperV2)                                                         \n",
      "                                                                 \n",
      "=================================================================\n",
      "Total params: 16361797 (62.42 MB)\n",
      "Trainable params: 16349067 (62.37 MB)\n",
      "Non-trainable params: 12730 (49.73 KB)\n",
      "_________________________________________________________________\n"
     ]
    }
   ],
   "source": [
    "q_aware_model.summary()"
   ]
  },
  {
   "cell_type": "code",
   "execution_count": 103,
   "metadata": {},
   "outputs": [
    {
     "name": "stdout",
     "output_type": "stream",
     "text": [
      "X_train (800, 256, 256, 3) y_train (800, 3)\n",
      "X_val   (200, 256, 256, 3)  y_val   (200, 3)\n"
     ]
    }
   ],
   "source": [
    "print('X_train',X_train.shape,'y_train',y_train.shape)\n",
    "print('X_val  ',X_val.shape,' y_val  ',y_val.shape)"
   ]
  },
  {
   "cell_type": "code",
   "execution_count": 105,
   "metadata": {},
   "outputs": [
    {
     "name": "stdout",
     "output_type": "stream",
     "text": [
      "Epoch 1/3\n",
      "16/16 [==============================] - 163s 10s/step - loss: 0.2421 - categorical_accuracy: 0.9275 - auc_3: 0.9855 - recall_3: 0.9100 - precision_3: 0.9345 - val_loss: 0.2750 - val_categorical_accuracy: 0.8800 - val_auc_3: 0.9796 - val_recall_3: 0.8700 - val_precision_3: 0.8923\n",
      "Epoch 2/3\n",
      "16/16 [==============================] - 160s 10s/step - loss: 0.1792 - categorical_accuracy: 0.9450 - auc_3: 0.9919 - recall_3: 0.9413 - precision_3: 0.9496 - val_loss: 0.2465 - val_categorical_accuracy: 0.9050 - val_auc_3: 0.9831 - val_recall_3: 0.8800 - val_precision_3: 0.9119\n",
      "Epoch 3/3\n",
      "16/16 [==============================] - 158s 10s/step - loss: 0.1398 - categorical_accuracy: 0.9588 - auc_3: 0.9949 - recall_3: 0.9550 - precision_3: 0.9610 - val_loss: 0.1929 - val_categorical_accuracy: 0.9450 - val_auc_3: 0.9866 - val_recall_3: 0.9450 - val_precision_3: 0.9497\n"
     ]
    }
   ],
   "source": [
    "q_aware_history = q_aware_model.fit(x=X_train, y=y_train,batch_size=50,validation_data=(X_val,y_val), epochs=3)"
   ]
  },
  {
   "cell_type": "code",
   "execution_count": 108,
   "metadata": {},
   "outputs": [
    {
     "data": {
      "image/png": "[encoded data removed]",
      "text/plain": [
       "<Figure size 1600x400 with 5 Axes>"
      ]
     },
     "metadata": {},
     "output_type": "display_data"
    }
   ],
   "source": [
    "df_q_aware_hostory = pd.DataFrame(q_aware_history.history)\n",
    "df_q_aware_hostory['epochs'] = df_q_aware_hostory.index\n",
    "fig, axes = plt.subplots(1,5,figsize=(16,4))\n",
    "lst = ['categorical_accuracy','auc_3','loss','recall_3','precision_3']\n",
    "for i in range(len(lst)):\n",
    "    axes[i].set_title(lst[i])\n",
    "    sns.lineplot(df_q_aware_hostory,x='epochs',y=lst[i],label='train',ax=axes[i])\n",
    "    sns.lineplot(df_q_aware_hostory,x='epochs',y='val_'+lst[i],label='val',ax=axes[i])\n",
    "    axes[i].set_ylabel('')\n",
    "    axes[i].set_xlabel('')\n",
    "plt.show()"
   ]
  },
  {
   "cell_type": "code",
   "execution_count": 110,
   "metadata": {
    "execution": {
     "iopub.execute_input": "2025-03-02T15:23:48.667124Z",
     "iopub.status.busy": "2025-03-02T15:23:48.666880Z",
     "iopub.status.idle": "2025-03-02T15:23:48.676637Z",
     "shell.execute_reply": "2025-03-02T15:23:48.675744Z",
     "shell.execute_reply.started": "2025-03-02T15:23:48.667103Z"
    },
    "trusted": true
   },
   "outputs": [
    {
     "data": {
      "text/plain": [
       "labels\n",
       "1    71\n",
       "0    69\n",
       "2    60\n",
       "Name: count, dtype: int64"
      ]
     },
     "execution_count": 110,
     "metadata": {},
     "output_type": "execute_result"
    }
   ],
   "source": [
    "data_test = df_dataest.loc[df_dataest.index.isin(data.index)==False]\n",
    "data_test = data_test.sample(200,random_state=42)\n",
    "data_test['labels'].value_counts()"
   ]
  },
  {
   "cell_type": "code",
   "execution_count": 167,
   "metadata": {
    "execution": {
     "iopub.execute_input": "2025-03-02T15:23:48.677893Z",
     "iopub.status.busy": "2025-03-02T15:23:48.677587Z",
     "iopub.status.idle": "2025-03-02T15:25:38.204229Z",
     "shell.execute_reply": "2025-03-02T15:25:38.203373Z",
     "shell.execute_reply.started": "2025-03-02T15:23:48.677861Z"
    },
    "trusted": true
   },
   "outputs": [
    {
     "name": "stdout",
     "output_type": "stream",
     "text": [
      "(200, 256, 256, 3)\n",
      "X_test (200, 256, 256, 3) y_test (200, 3)\n"
     ]
    }
   ],
   "source": [
    "X_test_img = load_data(data_test['image_path'],(image_w_h,image_w_h))\n",
    "X_test = X_test_img/255.0\n",
    "y_test = to_y_data(data_test['labels'].to_list(),3)\n",
    "\n",
    "print('X_test',X_test.shape,'y_test',y_test.shape)"
   ]
  },
  {
   "cell_type": "code",
   "execution_count": 116,
   "metadata": {},
   "outputs": [],
   "source": [
    "true_labels = np.argmax(y_test,axis=1)"
   ]
  },
  {
   "cell_type": "code",
   "execution_count": 188,
   "metadata": {
    "execution": {
     "iopub.execute_input": "2025-03-02T15:25:38.205372Z",
     "iopub.status.busy": "2025-03-02T15:25:38.205080Z",
     "iopub.status.idle": "2025-03-02T15:25:38.208929Z",
     "shell.execute_reply": "2025-03-02T15:25:38.208184Z",
     "shell.execute_reply.started": "2025-03-02T15:25:38.205345Z"
    },
    "trusted": true
   },
   "outputs": [],
   "source": [
    "dic_result = {\"model's type\":['ori model','QAT model','Quantization'],'accuracy':[],'recall':[],'precision':[],'auc':[]}"
   ]
  },
  {
   "cell_type": "markdown",
   "metadata": {},
   "source": [
    "### 比較一下，最早凍結參數的模型、模擬QAT後的模型、量化後的模型差異"
   ]
  },
  {
   "cell_type": "markdown",
   "metadata": {},
   "source": [
    "### 最早凍結參數的模型"
   ]
  },
  {
   "cell_type": "code",
   "execution_count": null,
   "metadata": {},
   "outputs": [],
   "source": [
    "preds = model_for_q.predict(X_test,verbose=0)\n",
    "pred_labels = np.argmax(preds,axis=1)\n",
    "\n",
    "dic_result['accuracy'].append(accuracy_score(true_labels,np.argmax(preds,axis=1)))\n",
    "dic_result['recall'].append(recall_score(true_labels,pred_labels,average='micro'))\n",
    "dic_result['precision'].append(precision_score(true_labels,pred_labels,average='micro'))\n",
    "dic_result['auc'].append(roc_auc_score(y_test,preds,average='micro',multi_class='ovr'))\n"
   ]
  },
  {
   "cell_type": "markdown",
   "metadata": {},
   "source": [
    "### 模擬QAT後的模型"
   ]
  },
  {
   "cell_type": "code",
   "execution_count": null,
   "metadata": {},
   "outputs": [],
   "source": [
    "preds = q_aware_model.predict(X_test,verbose=0)\n",
    "pred_labels = np.argmax(preds,axis=1)\n",
    "\n",
    "dic_result['accuracy'].append(accuracy_score(true_labels,np.argmax(preds,axis=1)))\n",
    "dic_result['recall'].append(recall_score(true_labels,pred_labels,average='micro'))\n",
    "dic_result['precision'].append(precision_score(true_labels,pred_labels,average='micro'))\n",
    "dic_result['auc'].append(roc_auc_score(y_test,preds,average='micro',multi_class='ovr'))\n"
   ]
  },
  {
   "cell_type": "markdown",
   "metadata": {},
   "source": [
    "### 量化後的模型\n",
    "\n",
    "<h>1.將模型透過TFLite進行量化</h>\n",
    "\n",
    "<h>2.這邊沒有作Layerwise、Channelwise及量化精度的配置交由套件他自行最佳化</h>\n",
    "\n",
    "<h>3.從下方秀出的配置結果可以看到，他是沒有全部都改成INT的</h>\n",
    "\n",
    "<h>4.還邊還有個重點，如果是用MAC，目前GPU沒有針對量化優化，所以會用CPU去跑推論，主要的優勢就變成是節省空間</h>"
   ]
  },
  {
   "cell_type": "code",
   "execution_count": null,
   "metadata": {},
   "outputs": [
    {
     "name": "stdout",
     "output_type": "stream",
     "text": [
      "INFO:tensorflow:Assets written to: /var/folders/cq/b59py2rn7dz4b4pcbt4fzk8m0000gn/T/tmpa6zbb1rt/assets\n"
     ]
    },
    {
     "name": "stderr",
     "output_type": "stream",
     "text": [
      "INFO:tensorflow:Assets written to: /var/folders/cq/b59py2rn7dz4b4pcbt4fzk8m0000gn/T/tmpa6zbb1rt/assets\n"
     ]
    },
    {
     "name": "stdout",
     "output_type": "stream",
     "text": [
      "Layer: serving_default_input_2:0, dtype: <class 'numpy.float32'>\n",
      "Layer: arith.constant, dtype: <class 'numpy.int32'>\n",
      "Layer: tfl.pseudo_qconst, dtype: <class 'numpy.int32'>\n",
      "Layer: tfl.pseudo_qconst1, dtype: <class 'numpy.int32'>\n",
      "Layer: tfl.pseudo_qconst2, dtype: <class 'numpy.int32'>\n",
      "Layer: tfl.pseudo_qconst3, dtype: <class 'numpy.int32'>\n",
      "Layer: tfl.pseudo_qconst4, dtype: <class 'numpy.int32'>\n",
      "Layer: tfl.pseudo_qconst5, dtype: <class 'numpy.int32'>\n",
      "Layer: tfl.pseudo_qconst6, dtype: <class 'numpy.int32'>\n",
      "Layer: tfl.pseudo_qconst7, dtype: <class 'numpy.int32'>\n",
      "Layer: tfl.pseudo_qconst8, dtype: <class 'numpy.int32'>\n",
      "Layer: tfl.pseudo_qconst9, dtype: <class 'numpy.int32'>\n",
      "Layer: tfl.pseudo_qconst10, dtype: <class 'numpy.int32'>\n",
      "Layer: tfl.pseudo_qconst11, dtype: <class 'numpy.int32'>\n",
      "Layer: tfl.pseudo_qconst12, dtype: <class 'numpy.int32'>\n",
      "Layer: tfl.pseudo_qconst13, dtype: <class 'numpy.int32'>\n",
      "Layer: tfl.pseudo_qconst14, dtype: <class 'numpy.int32'>\n",
      "Layer: model_1/quantize_layer_6/AllValuesQuantize/FakeQuantWithMinMaxVars;, dtype: <class 'numpy.int8'>\n",
      "Layer: model_1/quant_block1_conv1/Conv2D;model_1/quant_block1_conv1/LastValueQuant/FakeQuantWithMinMaxVarsPerChannel, dtype: <class 'numpy.int8'>\n",
      "Layer: model_1/quant_block1_conv1/Relu;model_1/quant_block1_conv1/BiasAdd;model_1/quant_block1_conv1/Conv2D;model_1/quant_block1_conv1/BiasAdd/ReadVariableOp, dtype: <class 'numpy.int8'>\n",
      "Layer: model_1/quant_block1_conv2/Conv2D;model_1/quant_block1_conv2/LastValueQuant/FakeQuantWithMinMaxVarsPerChannel, dtype: <class 'numpy.int8'>\n",
      "Layer: model_1/quant_block1_conv2/Relu;model_1/quant_block1_conv2/BiasAdd;model_1/quant_block1_conv2/Conv2D;, dtype: <class 'numpy.int8'>\n",
      "Layer: model_1/quant_block1_pool/MaxPool, dtype: <class 'numpy.int8'>\n",
      "Layer: model_1/quant_block2_conv1/Conv2D;model_1/quant_block2_conv1/LastValueQuant/FakeQuantWithMinMaxVarsPerChannel, dtype: <class 'numpy.int8'>\n",
      "Layer: model_1/quant_block2_conv1/Relu;model_1/quant_block2_conv1/BiasAdd;model_1/quant_block2_conv1/Conv2D;, dtype: <class 'numpy.int8'>\n",
      "Layer: model_1/quant_block2_conv2/Conv2D;model_1/quant_block2_conv2/LastValueQuant/FakeQuantWithMinMaxVarsPerChannel, dtype: <class 'numpy.int8'>\n",
      "Layer: model_1/quant_block2_conv2/Relu;model_1/quant_block2_conv2/BiasAdd;model_1/quant_block2_conv2/Conv2D;, dtype: <class 'numpy.int8'>\n",
      "Layer: model_1/quant_block2_pool/MaxPool, dtype: <class 'numpy.int8'>\n",
      "Layer: model_1/quant_block3_conv1/Conv2D;model_1/quant_block3_conv1/LastValueQuant/FakeQuantWithMinMaxVarsPerChannel, dtype: <class 'numpy.int8'>\n",
      "Layer: model_1/quant_block3_conv1/Relu;model_1/quant_block3_conv1/BiasAdd;model_1/quant_block3_conv1/Conv2D;, dtype: <class 'numpy.int8'>\n",
      "Layer: model_1/quant_block3_conv2/Conv2D;model_1/quant_block3_conv2/LastValueQuant/FakeQuantWithMinMaxVarsPerChannel, dtype: <class 'numpy.int8'>\n",
      "Layer: model_1/quant_block3_conv2/Relu;model_1/quant_block3_conv2/BiasAdd;model_1/quant_block3_conv2/Conv2D;, dtype: <class 'numpy.int8'>\n",
      "Layer: model_1/quant_block3_conv3/Conv2D;model_1/quant_block3_conv3/LastValueQuant/FakeQuantWithMinMaxVarsPerChannel, dtype: <class 'numpy.int8'>\n",
      "Layer: model_1/quant_block3_conv3/Relu;model_1/quant_block3_conv3/BiasAdd;model_1/quant_block3_conv3/Conv2D;, dtype: <class 'numpy.int8'>\n",
      "Layer: model_1/quant_block3_pool/MaxPool, dtype: <class 'numpy.int8'>\n",
      "Layer: model_1/quant_block4_conv1/Conv2D;model_1/quant_block4_conv1/LastValueQuant/FakeQuantWithMinMaxVarsPerChannel, dtype: <class 'numpy.int8'>\n",
      "Layer: model_1/quant_block4_conv1/Relu;model_1/quant_block4_conv1/BiasAdd;model_1/quant_block4_conv1/Conv2D;, dtype: <class 'numpy.int8'>\n",
      "Layer: model_1/quant_block4_conv2/Conv2D;model_1/quant_block4_conv2/LastValueQuant/FakeQuantWithMinMaxVarsPerChannel, dtype: <class 'numpy.int8'>\n",
      "Layer: model_1/quant_block4_conv2/Relu;model_1/quant_block4_conv2/BiasAdd;model_1/quant_block4_conv2/Conv2D;, dtype: <class 'numpy.int8'>\n",
      "Layer: model_1/quant_block4_conv3/Conv2D;model_1/quant_block4_conv3/LastValueQuant/FakeQuantWithMinMaxVarsPerChannel, dtype: <class 'numpy.int8'>\n",
      "Layer: model_1/quant_block4_conv3/Relu;model_1/quant_block4_conv3/BiasAdd;model_1/quant_block4_conv3/Conv2D;, dtype: <class 'numpy.int8'>\n",
      "Layer: model_1/quant_block4_pool/MaxPool, dtype: <class 'numpy.int8'>\n",
      "Layer: model_1/quant_block5_conv1/Conv2D;model_1/quant_block5_conv1/LastValueQuant/FakeQuantWithMinMaxVarsPerChannel, dtype: <class 'numpy.int8'>\n",
      "Layer: model_1/quant_block5_conv1/Relu;model_1/quant_block5_conv1/BiasAdd;model_1/quant_block5_conv1/Conv2D;, dtype: <class 'numpy.int8'>\n",
      "Layer: model_1/quant_block5_conv2/Conv2D;model_1/quant_block5_conv2/LastValueQuant/FakeQuantWithMinMaxVarsPerChannel, dtype: <class 'numpy.int8'>\n",
      "Layer: model_1/quant_block5_conv2/Relu;model_1/quant_block5_conv2/BiasAdd;model_1/quant_block5_conv2/Conv2D;, dtype: <class 'numpy.int8'>\n",
      "Layer: model_1/quant_block5_conv3/Conv2D;model_1/quant_block5_conv3/LastValueQuant/FakeQuantWithMinMaxVarsPerChannel, dtype: <class 'numpy.int8'>\n",
      "Layer: model_1/quant_block5_conv3/Relu;model_1/quant_block5_conv3/BiasAdd;model_1/quant_block5_conv3/Conv2D;, dtype: <class 'numpy.int8'>\n",
      "Layer: model_1/quant_block5_pool/MaxPool, dtype: <class 'numpy.int8'>\n",
      "Layer: model_1/quant_flatten_1/Reshape, dtype: <class 'numpy.int8'>\n",
      "Layer: model_1/quant_dense_2/MatMul;model_1/quant_dense_2/LastValueQuant/FakeQuantWithMinMaxVars, dtype: <class 'numpy.int8'>\n",
      "Layer: model_1/quant_dense_2/MatMul;model_1/quant_dense_2/Relu;model_1/quant_dense_2/BiasAdd, dtype: <class 'numpy.int8'>\n",
      "Layer: model_1/quant_dense_3/MatMul;model_1/quant_dense_3/LastValueQuant/FakeQuantWithMinMaxVars, dtype: <class 'numpy.int8'>\n",
      "Layer: model_1/quant_dense_3/MatMul;model_1/quant_dense_3/BiasAdd, dtype: <class 'numpy.int8'>\n",
      "Layer: model_1/quant_dense_3/Softmax, dtype: <class 'numpy.int8'>\n",
      "Layer: StatefulPartitionedCall:0, dtype: <class 'numpy.float32'>\n"
     ]
    },
    {
     "name": "stderr",
     "output_type": "stream",
     "text": [
      "/Users/alros/computer_vision/computer_vision/lib/python3.9/site-packages/tensorflow/lite/python/convert.py:854: UserWarning: Statistics for quantized inputs were expected, but not specified; continuing anyway.\n",
      "  warnings.warn(\n",
      "W0000 00:00:1741799258.069757  382774 tf_tfl_flatbuffer_helpers.cc:365] Ignored output_format.\n",
      "W0000 00:00:1741799258.069773  382774 tf_tfl_flatbuffer_helpers.cc:368] Ignored drop_control_dependency.\n",
      "2025-03-13 01:07:38.069950: I tensorflow/cc/saved_model/reader.cc:83] Reading SavedModel from: /var/folders/cq/b59py2rn7dz4b4pcbt4fzk8m0000gn/T/tmpa6zbb1rt\n",
      "2025-03-13 01:07:38.075670: I tensorflow/cc/saved_model/reader.cc:52] Reading meta graph with tags { serve }\n",
      "2025-03-13 01:07:38.075687: I tensorflow/cc/saved_model/reader.cc:147] Reading SavedModel debug info (if present) from: /var/folders/cq/b59py2rn7dz4b4pcbt4fzk8m0000gn/T/tmpa6zbb1rt\n",
      "2025-03-13 01:07:38.112201: I tensorflow/cc/saved_model/loader.cc:236] Restoring SavedModel bundle.\n",
      "2025-03-13 01:07:38.346493: I tensorflow/cc/saved_model/loader.cc:220] Running initialization op on SavedModel bundle at path: /var/folders/cq/b59py2rn7dz4b4pcbt4fzk8m0000gn/T/tmpa6zbb1rt\n",
      "2025-03-13 01:07:38.395299: I tensorflow/cc/saved_model/loader.cc:471] SavedModel load for tags { serve }; Status: success: OK. Took 325352 microseconds.\n",
      "/Users/alros/computer_vision/computer_vision/lib/python3.9/site-packages/tensorflow/lite/python/interpreter.py:457: UserWarning:     Warning: tf.lite.Interpreter is deprecated and is scheduled for deletion in\n",
      "    TF 2.20. Please use the LiteRT interpreter from the ai_edge_litert package.\n",
      "    See the [migration guide](https://ai.google.dev/edge/litert/migration)\n",
      "    for details.\n",
      "    \n",
      "  warnings.warn(_INTERPRETER_DELETION_WARNING)\n"
     ]
    }
   ],
   "source": [
    "converter = tf.lite.TFLiteConverter.from_keras_model(q_aware_model)\n",
    "converter.optimizations = [tf.lite.Optimize.DEFAULT]\n",
    "tflite_quant_model = converter.convert()\n",
    "interpreter = tf.lite.Interpreter(model_content=tflite_quant_model)\n",
    "# 訪問模型的權重\n",
    "interpreter.allocate_tensors()\n",
    "tensor_details = interpreter.get_tensor_details()\n",
    "\n",
    "# 顯示權重的數據類型（如 INT8）\n",
    "for tensor in tensor_details:\n",
    "    tensor_name = tensor['name']\n",
    "    tensor_dtype = tensor['dtype']\n",
    "    print(f\"Layer: {tensor_name}, dtype: {tensor_dtype}\")"
   ]
  },
  {
   "cell_type": "code",
   "execution_count": null,
   "metadata": {},
   "outputs": [],
   "source": [
    "# A helper function to evaluate the LiteRT model using \"test\" dataset.\n",
    "def evaluate_model(interpreter,X_test):\n",
    "  input_index = interpreter.get_input_details()[0][\"index\"]\n",
    "  output_index = interpreter.get_output_details()[0][\"index\"]\n",
    "\n",
    "  # Run predictions on every image in the \"test\" dataset.\n",
    "  prediction_digits = []\n",
    "  for test_image in X_test.copy():\n",
    "    # Pre-processing: add batch dimension and convert to float32 to match with\n",
    "    # the model's input data format.\n",
    "    test_image = np.expand_dims(test_image, axis=0).astype(np.float32)\n",
    "    interpreter.set_tensor(input_index, test_image)\n",
    "\n",
    "    # Run inference.\n",
    "    interpreter.invoke()\n",
    "\n",
    "    # Post-processing: remove batch dimension and find the digit with highest\n",
    "    # probability.\n",
    "    output = interpreter.tensor(output_index)\n",
    "    probability = output()[0].copy()\n",
    "    prediction_digits.append(probability)\n",
    "\n",
    "  return prediction_digits"
   ]
  },
  {
   "cell_type": "code",
   "execution_count": null,
   "metadata": {},
   "outputs": [],
   "source": [
    "preds = evaluate_model(interpreter,X_test)\n",
    "\n",
    "pred_labels = np.argmax(preds,axis=1)\n",
    "dic_result['accuracy'].append(accuracy_score(true_labels,np.argmax(preds,axis=1)))\n",
    "dic_result['recall'].append(recall_score(true_labels,pred_labels,average='micro'))\n",
    "dic_result['precision'].append(precision_score(true_labels,pred_labels,average='micro'))\n",
    "dic_result['auc'].append(roc_auc_score(y_test,preds,average='micro',multi_class='ovr'))"
   ]
  },
  {
   "cell_type": "markdown",
   "metadata": {},
   "source": [
    "### 模型表現比較\n",
    "\n",
    "<h>1.從下方的指標數值可以發現因為無法凍結權重，結果在QAT時反而可以分數都還能上升，甚至真實量化後，還可以贏過位量化的模型</h>\n",
    "\n",
    "<h>2.量化後的模型因為是用CPU(GPU不支援量化後的計算)跑的緣故，推論速度會比較慢</h>\n"
   ]
  },
  {
   "cell_type": "code",
   "execution_count": null,
   "metadata": {},
   "outputs": [
    {
     "data": {
      "text/html": [
       "<div>\n",
       "<style scoped>\n",
       "    .dataframe tbody tr th:only-of-type {\n",
       "        vertical-align: middle;\n",
       "    }\n",
       "\n",
       "    .dataframe tbody tr th {\n",
       "        vertical-align: top;\n",
       "    }\n",
       "\n",
       "    .dataframe thead th {\n",
       "        text-align: right;\n",
       "    }\n",
       "</style>\n",
       "<table border=\"1\" class=\"dataframe\">\n",
       "  <thead>\n",
       "    <tr style=\"text-align: right;\">\n",
       "      <th></th>\n",
       "      <th>model's type</th>\n",
       "      <th>accuracy</th>\n",
       "      <th>recall</th>\n",
       "      <th>precision</th>\n",
       "      <th>auc</th>\n",
       "    </tr>\n",
       "  </thead>\n",
       "  <tbody>\n",
       "    <tr>\n",
       "      <th>0</th>\n",
       "      <td>ori model</td>\n",
       "      <td>0.79</td>\n",
       "      <td>0.79</td>\n",
       "      <td>0.79</td>\n",
       "      <td>0.930300</td>\n",
       "    </tr>\n",
       "    <tr>\n",
       "      <th>1</th>\n",
       "      <td>QAT model</td>\n",
       "      <td>0.92</td>\n",
       "      <td>0.92</td>\n",
       "      <td>0.92</td>\n",
       "      <td>0.982806</td>\n",
       "    </tr>\n",
       "    <tr>\n",
       "      <th>2</th>\n",
       "      <td>Quantization</td>\n",
       "      <td>0.87</td>\n",
       "      <td>0.87</td>\n",
       "      <td>0.87</td>\n",
       "      <td>0.972994</td>\n",
       "    </tr>\n",
       "  </tbody>\n",
       "</table>\n",
       "</div>"
      ],
      "text/plain": [
       "   model's type  accuracy  recall  precision       auc\n",
       "0     ori model      0.79    0.79       0.79  0.930300\n",
       "1     QAT model      0.92    0.92       0.92  0.982806\n",
       "2  Quantization      0.87    0.87       0.87  0.972994"
      ]
     },
     "execution_count": 195,
     "metadata": {},
     "output_type": "execute_result"
    }
   ],
   "source": [
    "pd.DataFrame(dic_result)"
   ]
  },
  {
   "cell_type": "code",
   "execution_count": null,
   "metadata": {},
   "outputs": [],
   "source": [
    "import tempfile"
   ]
  },
  {
   "cell_type": "code",
   "execution_count": null,
   "metadata": {},
   "outputs": [
    {
     "name": "stdout",
     "output_type": "stream",
     "text": [
      "INFO:tensorflow:Assets written to: /var/folders/cq/b59py2rn7dz4b4pcbt4fzk8m0000gn/T/tmp32hsppvw/assets\n"
     ]
    },
    {
     "name": "stderr",
     "output_type": "stream",
     "text": [
      "INFO:tensorflow:Assets written to: /var/folders/cq/b59py2rn7dz4b4pcbt4fzk8m0000gn/T/tmp32hsppvw/assets\n",
      "WARNING:absl:At this time, the v2.11+ optimizer `tf.keras.optimizers.RestoredOptimizer` runs slowly on M1/M2 Macs, please use the legacy TF-Keras optimizer instead, located at `tf.keras.optimizers.legacy.RestoredOptimizer`.\n",
      "W0000 00:00:1741799782.574552  382774 tf_tfl_flatbuffer_helpers.cc:365] Ignored output_format.\n",
      "W0000 00:00:1741799782.574561  382774 tf_tfl_flatbuffer_helpers.cc:368] Ignored drop_control_dependency.\n",
      "2025-03-13 01:16:22.574691: I tensorflow/cc/saved_model/reader.cc:83] Reading SavedModel from: /var/folders/cq/b59py2rn7dz4b4pcbt4fzk8m0000gn/T/tmp32hsppvw\n",
      "2025-03-13 01:16:22.576210: I tensorflow/cc/saved_model/reader.cc:52] Reading meta graph with tags { serve }\n",
      "2025-03-13 01:16:22.576215: I tensorflow/cc/saved_model/reader.cc:147] Reading SavedModel debug info (if present) from: /var/folders/cq/b59py2rn7dz4b4pcbt4fzk8m0000gn/T/tmp32hsppvw\n",
      "2025-03-13 01:16:22.586364: I tensorflow/cc/saved_model/loader.cc:236] Restoring SavedModel bundle.\n",
      "2025-03-13 01:16:22.648606: I tensorflow/cc/saved_model/loader.cc:220] Running initialization op on SavedModel bundle at path: /var/folders/cq/b59py2rn7dz4b4pcbt4fzk8m0000gn/T/tmp32hsppvw\n",
      "2025-03-13 01:16:22.663075: I tensorflow/cc/saved_model/loader.cc:471] SavedModel load for tags { serve }; Status: success: OK. Took 88383 microseconds.\n"
     ]
    },
    {
     "name": "stdout",
     "output_type": "stream",
     "text": [
      "INFO:tensorflow:Assets written to: /var/folders/cq/b59py2rn7dz4b4pcbt4fzk8m0000gn/T/tmpzj4iqkir/assets\n"
     ]
    },
    {
     "name": "stderr",
     "output_type": "stream",
     "text": [
      "INFO:tensorflow:Assets written to: /var/folders/cq/b59py2rn7dz4b4pcbt4fzk8m0000gn/T/tmpzj4iqkir/assets\n",
      "WARNING:absl:At this time, the v2.11+ optimizer `tf.keras.optimizers.RestoredOptimizer` runs slowly on M1/M2 Macs, please use the legacy TF-Keras optimizer instead, located at `tf.keras.optimizers.legacy.RestoredOptimizer`.\n",
      "W0000 00:00:1741799784.125588  382774 tf_tfl_flatbuffer_helpers.cc:365] Ignored output_format.\n",
      "W0000 00:00:1741799784.125598  382774 tf_tfl_flatbuffer_helpers.cc:368] Ignored drop_control_dependency.\n",
      "2025-03-13 01:16:24.125735: I tensorflow/cc/saved_model/reader.cc:83] Reading SavedModel from: /var/folders/cq/b59py2rn7dz4b4pcbt4fzk8m0000gn/T/tmpzj4iqkir\n",
      "2025-03-13 01:16:24.127240: I tensorflow/cc/saved_model/reader.cc:52] Reading meta graph with tags { serve }\n",
      "2025-03-13 01:16:24.127245: I tensorflow/cc/saved_model/reader.cc:147] Reading SavedModel debug info (if present) from: /var/folders/cq/b59py2rn7dz4b4pcbt4fzk8m0000gn/T/tmpzj4iqkir\n",
      "2025-03-13 01:16:24.136487: I tensorflow/cc/saved_model/loader.cc:236] Restoring SavedModel bundle.\n",
      "2025-03-13 01:16:24.200407: I tensorflow/cc/saved_model/loader.cc:220] Running initialization op on SavedModel bundle at path: /var/folders/cq/b59py2rn7dz4b4pcbt4fzk8m0000gn/T/tmpzj4iqkir\n",
      "2025-03-13 01:16:24.214740: I tensorflow/cc/saved_model/loader.cc:471] SavedModel load for tags { serve }; Status: success: OK. Took 89005 microseconds.\n"
     ]
    },
    {
     "name": "stdout",
     "output_type": "stream",
     "text": [
      "Float model in Mb: 62.39079284667969\n",
      "Quantized model in Mb: 15.7159423828125\n",
      "QAT model in Mb: 62.39079284667969\n"
     ]
    }
   ],
   "source": [
    "# Create float TFLite model.\n",
    "float_converter = tf.lite.TFLiteConverter.from_keras_model(model_for_q)\n",
    "float_tflite_model = float_converter.convert()\n",
    "\n",
    "qat_float_converter = tf.lite.TFLiteConverter.from_keras_model(q_aware_model)\n",
    "qat_float_tflite_model = float_converter.convert()\n",
    "\n",
    "# Measure sizes of models.\n",
    "_, float_file = tempfile.mkstemp('.tflite')\n",
    "_, quant_file = tempfile.mkstemp('.tflite')\n",
    "_, qat_float_file = tempfile.mkstemp('.tflite')\n",
    "\n",
    "with open(quant_file, 'wb') as f:\n",
    "  f.write(tflite_quant_model)\n",
    "\n",
    "with open(float_file, 'wb') as f:\n",
    "  f.write(float_tflite_model)\n",
    "\n",
    "with open(qat_float_file, 'wb') as f:\n",
    "  f.write(qat_float_tflite_model)\n",
    "\n",
    "print(\"Float model in Mb:\", os.path.getsize(float_file) / float(2**20))\n",
    "print(\"Quantized model in Mb:\", os.path.getsize(quant_file) / float(2**20))\n",
    "print(\"QAT model in Mb:\", os.path.getsize(qat_float_file) / float(2**20))"
   ]
  },
  {
   "cell_type": "markdown",
   "metadata": {},
   "source": [
    "<h>從上方可以看出，在Tensorflow使用它標準的量化語法對MAC來說的優勢只有模型檔案變小</h>\n"
   ]
  }
 ],
 "metadata": {
  "kaggle": {
   "accelerator": "nvidiaTeslaT4",
   "dataSources": [
    {
     "datasetId": 772726,
     "sourceId": 1331232,
     "sourceType": "datasetVersion"
    }
   ],
   "dockerImageVersionId": 30919,
   "isGpuEnabled": true,
   "isInternetEnabled": true,
   "language": "python",
   "sourceType": "notebook"
  },
  "kernelspec": {
   "display_name": "computer_vision",
   "language": "python",
   "name": "python3"
  },
  "language_info": {
   "codemirror_mode": {
    "name": "ipython",
    "version": 3
   },
   "file_extension": ".py",
   "mimetype": "text/x-python",
   "name": "python",
   "nbconvert_exporter": "python",
   "pygments_lexer": "ipython3",
   "version": "3.9.6"
  }
 },
 "nbformat": 4,
 "nbformat_minor": 4
}
